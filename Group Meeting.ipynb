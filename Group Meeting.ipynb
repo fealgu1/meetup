{
 "cells": [
  {
   "cell_type": "markdown",
   "metadata": {},
   "source": [
    "![](logo.png)"
   ]
  },
  {
   "cell_type": "markdown",
   "metadata": {},
   "source": [
    "# Data Analytics Meetings\n",
    "### We are starting this group to meet, review, and of course, learn about the fundamentals of Data Analytics.\n",
    "\n",
    "\n",
    "### About the data jam\n",
    "\n",
    "The idea is to work in small teams to visualize a new data set in **X** amount of time. \n",
    "We announce the actual data set at the beginning of the event. \n",
    "All jams are tool agnostic, so use what you're already comfortable with or try something new.\n",
    "\n",
    "The goal is to learn from each other by producing many visualizations on a common data set;\n",
    "we'll often identify interesting patterns, \n",
    "but more importantly we get to quickly compare design choices, statistical methods, tool choices, failures and successes.\n",
    "\n",
    "### Short presentation (Lightning talks)\n",
    "A short presentions to share a topic of interest.\n",
    "Below is a quick example on how to connect your Jupyter notebook to a database.\n",
    "\n",
    "\n",
    "### Meeting Location\n",
    "\n",
    "* Place- Tøyen Bibilotek (Tøyen library)\n",
    "* Time- 14:00-16:00\n",
    "        \n",
    "<div class=\"admonition note alert alert-info\">\n",
    "\n",
    "<p class=\"first admonition-title\" style=\"font-size: 20px style=\" font-weight: bold;\">We want:</p>\n",
    "<p class=\"last\" style=\"font-weight: bold>\">Data enthusiasts.\n",
    "<p class=\"last\" style=\"font-weight: bold>\">Data related topics.\n",
    "<p class=\"last\" style=\"font-weight: bold>\">Participation (Not obligatory, but encouraged).\n",
    "<p class=\"last\" style=\"font-weight: bold>\">To share your data analytics story.\n",
    "<p class=\"last\" style=\"font-weight: bold>\">Test our knowledge of data visualization tools of your choice.\n",
    "\n",
    "</p>\n",
    "</div>\n"
   ]
  },
  {
   "cell_type": "markdown",
   "metadata": {},
   "source": [
    "<div id='id-sql_connect'/>\n",
    "\n",
    "## CONNECTING JUPYTER TO MICROSOFT SQL"
   ]
  },
  {
   "cell_type": "markdown",
   "metadata": {},
   "source": [
    "# Table of content\n",
    "- [TOPIC INTRODUCTION](#id-Introduction)\n",
    "    \n",
    "- [CONNECTING JUPYTER TO MICROSOFT SQL](#id-sql_connect)\n",
    "    \n",
    "- [CREATE A NEW TABLE](#id-new_table)\n",
    "    - [SKILL: PANDAS,SQL SYNTAX](#id-pdsql)\n",
    "    \n",
    "- [VISUALIZATION](#id-vis)\n",
    " "
   ]
  },
  {
   "cell_type": "markdown",
   "metadata": {},
   "source": [
    "<div id='id-Introduction'/>\n",
    "\n",
    "## TOPIC INTRODUCTION \n",
    "\n"
   ]
  },
  {
   "cell_type": "markdown",
   "metadata": {},
   "source": [
    "We will be using the package **pyodbc** \n",
    "to connect to a SQL database. We will review basic SQL syntax, and the relational database model. Then, we'll try out an analysis from data stored in a database and write our results back to the database.\n",
    "\n",
    "In particular, we will revisit *SPREADSHEET FUNDAMENTALS - MODULE 1*, where we created tables and inserted values, if you recall. \n",
    "Then, we will use a Jupyter notebook to wrangle data and use the knowledge we're learning in *EVALUATION OF OUTCOMES - MODULE 3* \n"
   ]
  },
  {
   "cell_type": "markdown",
   "metadata": {},
   "source": [
    "###  Connecting to a Microsoft SQL Server with Python the package pyodbc\n",
    "\n",
    "* First, import the packages. \n",
    "    * *pyodbc* is an open-source Python module to access your SQL Server. \n",
    "    * *pandas* a high-level data manipulation tool.\n",
    "    * *numpy* to facilitates efficient numerical operations on large quantities of data.\n",
    "    * *matplotlib.pyplot*: a comprehensive library for creating static, animated, and interactive visualizations in Python\n",
    "    * *datetime* to manipulate dates    \n",
    "* Create a connection.\n",
    "    * check for drivers.\n",
    "* Query some data.\n",
    "    * use SQL syntax and pandas to query data."
   ]
  },
  {
   "cell_type": "markdown",
   "metadata": {},
   "source": [
    "### Load your packages"
   ]
  },
  {
   "cell_type": "code",
   "execution_count": 179,
   "metadata": {},
   "outputs": [],
   "source": [
    "\n",
    "import pandas as pd\n",
    "import numpy as np\n",
    "import matplotlib.pyplot as plt\n",
    "import datetime as dt\n",
    "import seaborn as sns\n",
    "\n",
    "# use pip install if mododule is not found. \n",
    "# !pip list or !pip freeze checks generates a list of your installed packages.\n",
    "# pip install pyodbc\n",
    "import pyodbc\n",
    "\n",
    "\n",
    "\n"
   ]
  },
  {
   "cell_type": "markdown",
   "metadata": {},
   "source": [
    "<div class=\"admonition note alert alert-info\">\n",
    "<p class=\"first admonition-title\" style=\"font-weight: bold;\">Note</p>\n",
    "\n",
    "#### [Click to read pyodbc documentation](https://learn.microsoft.com/en-us/sql/connect/python/pyodbc/step-3-proof-of-concept-connecting-to-sql-using-pyodbc?view=sql-server-ver16)"
   ]
  },
  {
   "cell_type": "code",
   "execution_count": 78,
   "metadata": {},
   "outputs": [
    {
     "data": {
      "text/plain": [
       "['SQL Server',\n",
       " 'PostgreSQL ANSI(x64)',\n",
       " 'PostgreSQL Unicode(x64)',\n",
       " 'ODBC Driver 17 for SQL Server',\n",
       " 'Amazon Redshift (x64)',\n",
       " 'SQL Server Native Client 11.0',\n",
       " 'ODBC Driver 11 for SQL Server']"
      ]
     },
     "execution_count": 78,
     "metadata": {},
     "output_type": "execute_result"
    }
   ],
   "source": [
    "# check for drivers\n",
    "\n",
    "pyodbc.drivers() # creates a list of drivers installed in your computer"
   ]
  },
  {
   "cell_type": "markdown",
   "metadata": {},
   "source": [
    "### Creating a connection"
   ]
  },
  {
   "cell_type": "code",
   "execution_count": 146,
   "metadata": {},
   "outputs": [
    {
     "data": {
      "text/plain": [
       "<pyodbc.Cursor at 0x153c635e830>"
      ]
     },
     "execution_count": 146,
     "metadata": {},
     "output_type": "execute_result"
    }
   ],
   "source": [
    "import pyodbc\n",
    "conn = pyodbc.connect('Driver={SQL Server Native Client 11.0};'\n",
    "                  'Server=DESKTOP-7002NRT\\SQLEXPRESS;'\n",
    "                  'Database=rider;'\n",
    "                  'Trusted_Connection=yes;')\n",
    "cursor = conn.cursor()\n",
    "cursor# A cursor is an object which helps to execute the query and fetch the records"
   ]
  },
  {
   "cell_type": "code",
   "execution_count": 145,
   "metadata": {},
   "outputs": [
    {
     "data": {
      "text/plain": [
       "('Microsoft SQL Server 2014 - 12.0.2269.0 (X64) \\n\\tJun 10 2015 03:35:45 \\n\\tCopyright (c) Microsoft Corporation\\n\\tExpress Edition (64-bit) on Windows NT 6.3 <X64> (Build 19044: )\\n', )"
      ]
     },
     "execution_count": 145,
     "metadata": {},
     "output_type": "execute_result"
    }
   ],
   "source": [
    "# optional\n",
    "cursor.execute(\"SELECT @@version;\")\n",
    "row = cursor.fetchone()\n",
    "row"
   ]
  },
  {
   "cell_type": "markdown",
   "metadata": {},
   "source": [
    "### Test connection"
   ]
  },
  {
   "cell_type": "code",
   "execution_count": 81,
   "metadata": {},
   "outputs": [],
   "source": [
    "# returs a list of tuples. \n",
    "cursor = conn.cursor()\n",
    "cursor.execute(\"select * from dbo.Rider\") #SQL syntax to query data\n",
    "rows = cursor.fetchall()\n"
   ]
  },
  {
   "cell_type": "code",
   "execution_count": 128,
   "metadata": {},
   "outputs": [
    {
     "data": {
      "text/html": [
       "<div>\n",
       "<style scoped>\n",
       "    .dataframe tbody tr th:only-of-type {\n",
       "        vertical-align: middle;\n",
       "    }\n",
       "\n",
       "    .dataframe tbody tr th {\n",
       "        vertical-align: top;\n",
       "    }\n",
       "\n",
       "    .dataframe thead th {\n",
       "        text-align: right;\n",
       "    }\n",
       "</style>\n",
       "<table border=\"1\" class=\"dataframe\">\n",
       "  <thead>\n",
       "    <tr style=\"text-align: right;\">\n",
       "      <th></th>\n",
       "      <th>order_time</th>\n",
       "      <th>order_id</th>\n",
       "      <th>order_date</th>\n",
       "      <th>allot_time</th>\n",
       "      <th>accept_time</th>\n",
       "      <th>pickup_time</th>\n",
       "      <th>delivered_time</th>\n",
       "      <th>rider_id</th>\n",
       "      <th>first_mile_distance</th>\n",
       "      <th>last_mile_distance</th>\n",
       "      <th>alloted_orders</th>\n",
       "      <th>delivered_orders</th>\n",
       "      <th>cancelled</th>\n",
       "      <th>undelivered_orders</th>\n",
       "      <th>lifetime_order_count</th>\n",
       "      <th>reassignment_method</th>\n",
       "      <th>reassignment_reason</th>\n",
       "      <th>reassigned_order</th>\n",
       "      <th>session_time</th>\n",
       "      <th>cancelled_time</th>\n",
       "    </tr>\n",
       "  </thead>\n",
       "  <tbody>\n",
       "    <tr>\n",
       "      <th>0</th>\n",
       "      <td>2021-01-26 02:21:00</td>\n",
       "      <td>556753</td>\n",
       "      <td>2021-01-26</td>\n",
       "      <td>2021-01-26 02:21:00</td>\n",
       "      <td>2021-01-26 02:22:00</td>\n",
       "      <td>2021-01-26 02:32:00</td>\n",
       "      <td>2021-01-26 02:49:00</td>\n",
       "      <td>11696</td>\n",
       "      <td>1.5666</td>\n",
       "      <td>2.65</td>\n",
       "      <td>46</td>\n",
       "      <td>46.0</td>\n",
       "      <td>0</td>\n",
       "      <td>0</td>\n",
       "      <td>621.0</td>\n",
       "      <td></td>\n",
       "      <td></td>\n",
       "      <td></td>\n",
       "      <td></td>\n",
       "      <td>1753-01-01</td>\n",
       "    </tr>\n",
       "    <tr>\n",
       "      <th>1</th>\n",
       "      <td>2021-01-26 02:33:00</td>\n",
       "      <td>556754</td>\n",
       "      <td>2021-01-26</td>\n",
       "      <td>2021-01-26 02:33:00</td>\n",
       "      <td>2021-01-26 02:34:00</td>\n",
       "      <td>2021-01-26 02:50:00</td>\n",
       "      <td>2021-01-26 03:11:00</td>\n",
       "      <td>18117</td>\n",
       "      <td>2.5207</td>\n",
       "      <td>2.76</td>\n",
       "      <td>8</td>\n",
       "      <td>8.0</td>\n",
       "      <td>0</td>\n",
       "      <td>0</td>\n",
       "      <td>105.0</td>\n",
       "      <td></td>\n",
       "      <td></td>\n",
       "      <td></td>\n",
       "      <td>3.266666667</td>\n",
       "      <td>1753-01-01</td>\n",
       "    </tr>\n",
       "    <tr>\n",
       "      <th>2</th>\n",
       "      <td>2021-01-26 02:39:00</td>\n",
       "      <td>556755</td>\n",
       "      <td>2021-01-26</td>\n",
       "      <td>2021-01-26 02:39:00</td>\n",
       "      <td>2021-01-26 02:40:00</td>\n",
       "      <td>2021-01-26 02:56:00</td>\n",
       "      <td>2021-01-26 03:12:00</td>\n",
       "      <td>18623</td>\n",
       "      <td>2.2074</td>\n",
       "      <td>4.80</td>\n",
       "      <td>1</td>\n",
       "      <td>1.0</td>\n",
       "      <td>0</td>\n",
       "      <td>0</td>\n",
       "      <td>66.0</td>\n",
       "      <td></td>\n",
       "      <td></td>\n",
       "      <td></td>\n",
       "      <td>9.816666667</td>\n",
       "      <td>1753-01-01</td>\n",
       "    </tr>\n",
       "    <tr>\n",
       "      <th>3</th>\n",
       "      <td>2021-01-26 02:47:00</td>\n",
       "      <td>556756</td>\n",
       "      <td>2021-01-26</td>\n",
       "      <td>2021-01-26 02:48:00</td>\n",
       "      <td>2021-01-26 02:49:00</td>\n",
       "      <td>2021-01-26 03:21:00</td>\n",
       "      <td>2021-01-26 03:41:00</td>\n",
       "      <td>15945</td>\n",
       "      <td>2.1894</td>\n",
       "      <td>6.38</td>\n",
       "      <td>1</td>\n",
       "      <td>1.0</td>\n",
       "      <td>0</td>\n",
       "      <td>0</td>\n",
       "      <td>127.0</td>\n",
       "      <td></td>\n",
       "      <td></td>\n",
       "      <td></td>\n",
       "      <td>17.53333333</td>\n",
       "      <td>1753-01-01</td>\n",
       "    </tr>\n",
       "    <tr>\n",
       "      <th>4</th>\n",
       "      <td>2021-01-26 03:06:00</td>\n",
       "      <td>556757</td>\n",
       "      <td>2021-01-26</td>\n",
       "      <td>2021-01-26 03:07:00</td>\n",
       "      <td>2021-01-26 03:07:00</td>\n",
       "      <td>2021-01-26 03:31:00</td>\n",
       "      <td>2021-01-26 04:00:00</td>\n",
       "      <td>17589</td>\n",
       "      <td>2.7870</td>\n",
       "      <td>4.01</td>\n",
       "      <td>34</td>\n",
       "      <td>34.0</td>\n",
       "      <td>0</td>\n",
       "      <td>0</td>\n",
       "      <td>84.0</td>\n",
       "      <td></td>\n",
       "      <td></td>\n",
       "      <td></td>\n",
       "      <td>1.35</td>\n",
       "      <td>1753-01-01</td>\n",
       "    </tr>\n",
       "  </tbody>\n",
       "</table>\n",
       "</div>"
      ],
      "text/plain": [
       "           order_time order_id order_date          allot_time  \\\n",
       "0 2021-01-26 02:21:00   556753 2021-01-26 2021-01-26 02:21:00   \n",
       "1 2021-01-26 02:33:00   556754 2021-01-26 2021-01-26 02:33:00   \n",
       "2 2021-01-26 02:39:00   556755 2021-01-26 2021-01-26 02:39:00   \n",
       "3 2021-01-26 02:47:00   556756 2021-01-26 2021-01-26 02:48:00   \n",
       "4 2021-01-26 03:06:00   556757 2021-01-26 2021-01-26 03:07:00   \n",
       "\n",
       "          accept_time         pickup_time      delivered_time rider_id  \\\n",
       "0 2021-01-26 02:22:00 2021-01-26 02:32:00 2021-01-26 02:49:00    11696   \n",
       "1 2021-01-26 02:34:00 2021-01-26 02:50:00 2021-01-26 03:11:00    18117   \n",
       "2 2021-01-26 02:40:00 2021-01-26 02:56:00 2021-01-26 03:12:00    18623   \n",
       "3 2021-01-26 02:49:00 2021-01-26 03:21:00 2021-01-26 03:41:00    15945   \n",
       "4 2021-01-26 03:07:00 2021-01-26 03:31:00 2021-01-26 04:00:00    17589   \n",
       "\n",
       "   first_mile_distance  last_mile_distance alloted_orders  delivered_orders  \\\n",
       "0               1.5666                2.65             46              46.0   \n",
       "1               2.5207                2.76              8               8.0   \n",
       "2               2.2074                4.80              1               1.0   \n",
       "3               2.1894                6.38              1               1.0   \n",
       "4               2.7870                4.01             34              34.0   \n",
       "\n",
       "  cancelled undelivered_orders  lifetime_order_count reassignment_method  \\\n",
       "0         0                  0                 621.0                       \n",
       "1         0                  0                 105.0                       \n",
       "2         0                  0                  66.0                       \n",
       "3         0                  0                 127.0                       \n",
       "4         0                  0                  84.0                       \n",
       "\n",
       "  reassignment_reason reassigned_order session_time cancelled_time  \n",
       "0                                                       1753-01-01  \n",
       "1                                       3.266666667     1753-01-01  \n",
       "2                                       9.816666667     1753-01-01  \n",
       "3                                       17.53333333     1753-01-01  \n",
       "4                                              1.35     1753-01-01  "
      ]
     },
     "execution_count": 128,
     "metadata": {},
     "output_type": "execute_result"
    }
   ],
   "source": [
    "# But this next line of code return a table! \n",
    "query = \"select * from dbo.Rider\" #SQL syntax to query data\n",
    "table = pd.read_sql(query, conn) # the \n",
    "table.head()"
   ]
  },
  {
   "cell_type": "markdown",
   "metadata": {},
   "source": [
    "<div id='id-new_table'/>\n",
    "\n",
    "## CREATE A NEW TABLE"
   ]
  },
  {
   "cell_type": "markdown",
   "metadata": {},
   "source": [
    "### New table based on conditions\n",
    "In this exercise I will create a new table and name it *Orde_tble*\n",
    "\n",
    "* Check data type before wrangling data.\n",
    "* Create columns: DAY, MONTH, WEEK\n",
    "* Select columns for new table    \n",
    "\n"
   ]
  },
  {
   "cell_type": "markdown",
   "metadata": {},
   "source": [
    "<div id='id-pdsql'/>\n",
    "\n",
    "#### PRACTICE PANDAS, SQL SYNTAX"
   ]
  },
  {
   "cell_type": "code",
   "execution_count": 158,
   "metadata": {},
   "outputs": [
    {
     "name": "stdout",
     "output_type": "stream",
     "text": [
      "<class 'pandas.core.frame.DataFrame'>\n",
      "RangeIndex: 450000 entries, 0 to 449999\n",
      "Data columns (total 20 columns):\n",
      " #   Column                Non-Null Count   Dtype         \n",
      "---  ------                --------------   -----         \n",
      " 0   order_time            450000 non-null  datetime64[ns]\n",
      " 1   order_id              450000 non-null  object        \n",
      " 2   order_date            450000 non-null  datetime64[ns]\n",
      " 3   allot_time            450000 non-null  datetime64[ns]\n",
      " 4   accept_time           450000 non-null  datetime64[ns]\n",
      " 5   pickup_time           450000 non-null  datetime64[ns]\n",
      " 6   delivered_time        450000 non-null  datetime64[ns]\n",
      " 7   rider_id              450000 non-null  object        \n",
      " 8   first_mile_distance   450000 non-null  float64       \n",
      " 9   last_mile_distance    450000 non-null  float64       \n",
      " 10  alloted_orders        450000 non-null  object        \n",
      " 11  delivered_orders      450000 non-null  float64       \n",
      " 12  cancelled             450000 non-null  object        \n",
      " 13  undelivered_orders    450000 non-null  object        \n",
      " 14  lifetime_order_count  450000 non-null  float64       \n",
      " 15  reassignment_method   450000 non-null  object        \n",
      " 16  reassignment_reason   450000 non-null  object        \n",
      " 17  reassigned_order      450000 non-null  object        \n",
      " 18  session_time          450000 non-null  object        \n",
      " 19  cancelled_time        450000 non-null  datetime64[ns]\n",
      "dtypes: datetime64[ns](7), float64(4), object(9)\n",
      "memory usage: 68.7+ MB\n"
     ]
    },
    {
     "data": {
      "text/plain": [
       "(450000, 20)"
      ]
     },
     "execution_count": 158,
     "metadata": {},
     "output_type": "execute_result"
    }
   ],
   "source": [
    "# check data type\n",
    "# order_date has the correct format. \n",
    "# Select data for new table\n",
    "# Create copy of table\n",
    "df = table.copy() \n",
    "df.info()\n",
    "type(df)\n",
    "df.columns\n",
    "df.shape"
   ]
  },
  {
   "cell_type": "code",
   "execution_count": 159,
   "metadata": {},
   "outputs": [
    {
     "data": {
      "text/html": [
       "<div>\n",
       "<style scoped>\n",
       "    .dataframe tbody tr th:only-of-type {\n",
       "        vertical-align: middle;\n",
       "    }\n",
       "\n",
       "    .dataframe tbody tr th {\n",
       "        vertical-align: top;\n",
       "    }\n",
       "\n",
       "    .dataframe thead th {\n",
       "        text-align: right;\n",
       "    }\n",
       "</style>\n",
       "<table border=\"1\" class=\"dataframe\">\n",
       "  <thead>\n",
       "    <tr style=\"text-align: right;\">\n",
       "      <th></th>\n",
       "      <th>order_time</th>\n",
       "      <th>order_id</th>\n",
       "      <th>order_date</th>\n",
       "      <th>allot_time</th>\n",
       "      <th>accept_time</th>\n",
       "      <th>pickup_time</th>\n",
       "      <th>delivered_time</th>\n",
       "      <th>rider_id</th>\n",
       "      <th>first_mile_distance</th>\n",
       "      <th>last_mile_distance</th>\n",
       "      <th>alloted_orders</th>\n",
       "      <th>delivered_orders</th>\n",
       "      <th>cancelled</th>\n",
       "      <th>undelivered_orders</th>\n",
       "      <th>lifetime_order_count</th>\n",
       "      <th>reassignment_method</th>\n",
       "      <th>reassignment_reason</th>\n",
       "      <th>reassigned_order</th>\n",
       "      <th>session_time</th>\n",
       "      <th>cancelled_time</th>\n",
       "    </tr>\n",
       "  </thead>\n",
       "  <tbody>\n",
       "    <tr>\n",
       "      <th>401538</th>\n",
       "      <td>2021-02-05 15:06:00</td>\n",
       "      <td>181402</td>\n",
       "      <td>2021-02-05</td>\n",
       "      <td>2021-02-05 16:32:00</td>\n",
       "      <td>2021-02-05 16:33:00</td>\n",
       "      <td>1753-01-01</td>\n",
       "      <td>1753-01-01</td>\n",
       "      <td>14538</td>\n",
       "      <td>2.6168</td>\n",
       "      <td>1.24</td>\n",
       "      <td>72</td>\n",
       "      <td>72.0</td>\n",
       "      <td>1</td>\n",
       "      <td>0</td>\n",
       "      <td>244.0</td>\n",
       "      <td>auto</td>\n",
       "      <td>Reassign</td>\n",
       "      <td>1</td>\n",
       "      <td>96.5</td>\n",
       "      <td>2021-02-05 16:59:00</td>\n",
       "    </tr>\n",
       "  </tbody>\n",
       "</table>\n",
       "</div>"
      ],
      "text/plain": [
       "                order_time order_id order_date          allot_time  \\\n",
       "401538 2021-02-05 15:06:00   181402 2021-02-05 2021-02-05 16:32:00   \n",
       "\n",
       "               accept_time pickup_time delivered_time rider_id  \\\n",
       "401538 2021-02-05 16:33:00  1753-01-01     1753-01-01    14538   \n",
       "\n",
       "        first_mile_distance  last_mile_distance alloted_orders  \\\n",
       "401538               2.6168                1.24             72   \n",
       "\n",
       "        delivered_orders cancelled undelivered_orders  lifetime_order_count  \\\n",
       "401538              72.0         1                  0                 244.0   \n",
       "\n",
       "       reassignment_method reassignment_reason reassigned_order session_time  \\\n",
       "401538                auto            Reassign                1         96.5   \n",
       "\n",
       "            cancelled_time  \n",
       "401538 2021-02-05 16:59:00  "
      ]
     },
     "execution_count": 159,
     "metadata": {},
     "output_type": "execute_result"
    }
   ],
   "source": [
    "#count duplicates\n",
    "df[df.duplicated()]"
   ]
  },
  {
   "cell_type": "code",
   "execution_count": 163,
   "metadata": {},
   "outputs": [],
   "source": [
    "df1= df.drop_duplicates() # created new object to compare before and after removing duplicates. "
   ]
  },
  {
   "cell_type": "code",
   "execution_count": 164,
   "metadata": {},
   "outputs": [
    {
     "data": {
      "text/html": [
       "<div>\n",
       "<style scoped>\n",
       "    .dataframe tbody tr th:only-of-type {\n",
       "        vertical-align: middle;\n",
       "    }\n",
       "\n",
       "    .dataframe tbody tr th {\n",
       "        vertical-align: top;\n",
       "    }\n",
       "\n",
       "    .dataframe thead th {\n",
       "        text-align: right;\n",
       "    }\n",
       "</style>\n",
       "<table border=\"1\" class=\"dataframe\">\n",
       "  <thead>\n",
       "    <tr style=\"text-align: right;\">\n",
       "      <th></th>\n",
       "      <th>order_time</th>\n",
       "      <th>order_id</th>\n",
       "      <th>order_date</th>\n",
       "      <th>allot_time</th>\n",
       "      <th>accept_time</th>\n",
       "      <th>pickup_time</th>\n",
       "      <th>delivered_time</th>\n",
       "      <th>rider_id</th>\n",
       "      <th>first_mile_distance</th>\n",
       "      <th>last_mile_distance</th>\n",
       "      <th>alloted_orders</th>\n",
       "      <th>delivered_orders</th>\n",
       "      <th>cancelled</th>\n",
       "      <th>undelivered_orders</th>\n",
       "      <th>lifetime_order_count</th>\n",
       "      <th>reassignment_method</th>\n",
       "      <th>reassignment_reason</th>\n",
       "      <th>reassigned_order</th>\n",
       "      <th>session_time</th>\n",
       "      <th>cancelled_time</th>\n",
       "    </tr>\n",
       "  </thead>\n",
       "  <tbody>\n",
       "  </tbody>\n",
       "</table>\n",
       "</div>"
      ],
      "text/plain": [
       "Empty DataFrame\n",
       "Columns: [order_time, order_id, order_date, allot_time, accept_time, pickup_time, delivered_time, rider_id, first_mile_distance, last_mile_distance, alloted_orders, delivered_orders, cancelled, undelivered_orders, lifetime_order_count, reassignment_method, reassignment_reason, reassigned_order, session_time, cancelled_time]\n",
       "Index: []"
      ]
     },
     "execution_count": 164,
     "metadata": {},
     "output_type": "execute_result"
    }
   ],
   "source": [
    "df1[df1.duplicated()]"
   ]
  },
  {
   "cell_type": "code",
   "execution_count": 166,
   "metadata": {},
   "outputs": [
    {
     "data": {
      "text/plain": [
       "(449999, 20)"
      ]
     },
     "execution_count": 166,
     "metadata": {},
     "output_type": "execute_result"
    }
   ],
   "source": [
    "df1.shape"
   ]
  },
  {
   "cell_type": "markdown",
   "metadata": {},
   "source": [
    "#### Create a new table\n",
    "\n",
    "* The *.loc* attribute is used to access a group of rows and columns of a DataFrame by using their labels.\n"
   ]
  },
  {
   "cell_type": "code",
   "execution_count": 171,
   "metadata": {},
   "outputs": [
    {
     "data": {
      "text/html": [
       "<div>\n",
       "<style scoped>\n",
       "    .dataframe tbody tr th:only-of-type {\n",
       "        vertical-align: middle;\n",
       "    }\n",
       "\n",
       "    .dataframe tbody tr th {\n",
       "        vertical-align: top;\n",
       "    }\n",
       "\n",
       "    .dataframe thead th {\n",
       "        text-align: right;\n",
       "    }\n",
       "</style>\n",
       "<table border=\"1\" class=\"dataframe\">\n",
       "  <thead>\n",
       "    <tr style=\"text-align: right;\">\n",
       "      <th></th>\n",
       "      <th>order_id</th>\n",
       "      <th>order_date</th>\n",
       "      <th>first_mile_distance</th>\n",
       "      <th>last_mile_distance</th>\n",
       "    </tr>\n",
       "  </thead>\n",
       "  <tbody>\n",
       "    <tr>\n",
       "      <th>0</th>\n",
       "      <td>556753</td>\n",
       "      <td>2021-01-26</td>\n",
       "      <td>1.5666</td>\n",
       "      <td>2.65</td>\n",
       "    </tr>\n",
       "    <tr>\n",
       "      <th>1</th>\n",
       "      <td>556754</td>\n",
       "      <td>2021-01-26</td>\n",
       "      <td>2.5207</td>\n",
       "      <td>2.76</td>\n",
       "    </tr>\n",
       "    <tr>\n",
       "      <th>2</th>\n",
       "      <td>556755</td>\n",
       "      <td>2021-01-26</td>\n",
       "      <td>2.2074</td>\n",
       "      <td>4.80</td>\n",
       "    </tr>\n",
       "  </tbody>\n",
       "</table>\n",
       "</div>"
      ],
      "text/plain": [
       "  order_id order_date  first_mile_distance  last_mile_distance\n",
       "0   556753 2021-01-26               1.5666                2.65\n",
       "1   556754 2021-01-26               2.5207                2.76\n",
       "2   556755 2021-01-26               2.2074                4.80"
      ]
     },
     "execution_count": 171,
     "metadata": {},
     "output_type": "execute_result"
    }
   ],
   "source": [
    "\n",
    "Order_table=df1.loc[:,['order_id','order_date','first_mile_distance','last_mile_distance']]\n",
    "Order_table.head(3)"
   ]
  },
  {
   "cell_type": "markdown",
   "metadata": {},
   "source": [
    "#### Create columns based on date columns"
   ]
  },
  {
   "cell_type": "code",
   "execution_count": 172,
   "metadata": {},
   "outputs": [
    {
     "data": {
      "text/html": [
       "<div>\n",
       "<style scoped>\n",
       "    .dataframe tbody tr th:only-of-type {\n",
       "        vertical-align: middle;\n",
       "    }\n",
       "\n",
       "    .dataframe tbody tr th {\n",
       "        vertical-align: top;\n",
       "    }\n",
       "\n",
       "    .dataframe thead th {\n",
       "        text-align: right;\n",
       "    }\n",
       "</style>\n",
       "<table border=\"1\" class=\"dataframe\">\n",
       "  <thead>\n",
       "    <tr style=\"text-align: right;\">\n",
       "      <th></th>\n",
       "      <th>order_id</th>\n",
       "      <th>order_date</th>\n",
       "      <th>first_mile_distance</th>\n",
       "      <th>last_mile_distance</th>\n",
       "      <th>Month</th>\n",
       "      <th>Year</th>\n",
       "      <th>Hour</th>\n",
       "    </tr>\n",
       "  </thead>\n",
       "  <tbody>\n",
       "    <tr>\n",
       "      <th>0</th>\n",
       "      <td>556753</td>\n",
       "      <td>2021-01-26</td>\n",
       "      <td>1.5666</td>\n",
       "      <td>2.65</td>\n",
       "      <td>1</td>\n",
       "      <td>2021</td>\n",
       "      <td>0</td>\n",
       "    </tr>\n",
       "    <tr>\n",
       "      <th>1</th>\n",
       "      <td>556754</td>\n",
       "      <td>2021-01-26</td>\n",
       "      <td>2.5207</td>\n",
       "      <td>2.76</td>\n",
       "      <td>1</td>\n",
       "      <td>2021</td>\n",
       "      <td>0</td>\n",
       "    </tr>\n",
       "    <tr>\n",
       "      <th>2</th>\n",
       "      <td>556755</td>\n",
       "      <td>2021-01-26</td>\n",
       "      <td>2.2074</td>\n",
       "      <td>4.80</td>\n",
       "      <td>1</td>\n",
       "      <td>2021</td>\n",
       "      <td>0</td>\n",
       "    </tr>\n",
       "  </tbody>\n",
       "</table>\n",
       "</div>"
      ],
      "text/plain": [
       "  order_id order_date  first_mile_distance  last_mile_distance  Month  Year  \\\n",
       "0   556753 2021-01-26               1.5666                2.65      1  2021   \n",
       "1   556754 2021-01-26               2.5207                2.76      1  2021   \n",
       "2   556755 2021-01-26               2.2074                4.80      1  2021   \n",
       "\n",
       "   Hour  \n",
       "0     0  \n",
       "1     0  \n",
       "2     0  "
      ]
     },
     "execution_count": 172,
     "metadata": {},
     "output_type": "execute_result"
    }
   ],
   "source": [
    "Order_table['Month'] = Order_table['order_date'].dt.month\n",
    "Order_table['Year']=Order_table['order_date'].dt.year\n",
    "Order_table['Hour']=Order_table['order_date'].dt.hour\n",
    "Order_table.head(3)"
   ]
  },
  {
   "cell_type": "markdown",
   "metadata": {},
   "source": [
    "#### Create table using SQL syntax and the object cursor\n"
   ]
  },
  {
   "cell_type": "code",
   "execution_count": 168,
   "metadata": {},
   "outputs": [],
   "source": [
    "cursor.execute('''\n",
    "CREATE TABLE Orde_tble (\n",
    "order_id int ,\n",
    "order_date datetime,\n",
    "first_mile_distance float,\n",
    "last_mile_distance float,\n",
    "Month int,\n",
    "Year int,\n",
    "Hour int,\n",
    "\n",
    ")\n",
    "         ''')\n",
    "\n",
    "conn.commit()"
   ]
  },
  {
   "cell_type": "markdown",
   "metadata": {},
   "source": [
    "#### Insert new values into the table\n"
   ]
  },
  {
   "cell_type": "markdown",
   "metadata": {},
   "source": [
    "<div class=\"admonition note alert alert-info\">\n",
    "<p class=\"first admonition-title\" style=\"font-weight: bold;\">Note</p>\n",
    "\n",
    "#### [Click to read pyodbc documentation](https://learn.microsoft.com/en-us/sql/machine-learning/data-exploration/python-dataframe-sql-server?view=sql-server-ver16)"
   ]
  },
  {
   "cell_type": "code",
   "execution_count": 170,
   "metadata": {},
   "outputs": [],
   "source": [
    "cursor.fast_executemany = True\n",
    "for index, row in Order_table.iterrows():\n",
    "     cursor.execute(\"INSERT INTO Orde_tble(order_id,order_date,first_mile_distance,\\\n",
    "     last_mile_distance,Month,Year,Hour) values(?,?,?,?,?,?,?)\", row.order_id, row.order_date, row.first_mile_distance, row.last_mile_distance, row.Month,row.Year,row.Hour)\n",
    "conn.commit()\n",
    "cursor.close()"
   ]
  },
  {
   "cell_type": "markdown",
   "metadata": {},
   "source": [
    "#### Check your data migration\n",
    "\n",
    "* Check your database and look for the new table and values."
   ]
  },
  {
   "cell_type": "markdown",
   "metadata": {},
   "source": [
    "![](Capture.png)"
   ]
  },
  {
   "cell_type": "markdown",
   "metadata": {},
   "source": [
    "\n",
    "<div id='id-vis'/>\n",
    "\n",
    "#### DATA VISUALIZATION\n",
    "\n",
    "These plots are simply to ullustrate possible analysis one can performed once we are able to connect to the data base. "
   ]
  },
  {
   "cell_type": "code",
   "execution_count": 198,
   "metadata": {},
   "outputs": [
    {
     "data": {
      "image/png": "[encoded data removed]",
      "text/plain": [
       "<Figure size 1080x432 with 1 Axes>"
      ]
     },
     "metadata": {},
     "output_type": "display_data"
    }
   ],
   "source": [
    "plt.figure(figsize = (15,6))\n",
    "sns.boxplot(x=Order_table['Month'],y=Order_table['last_mile_distance'], data = Order_table)\n",
    "\n",
    "plt.show()\n",
    "\n",
    "\n"
   ]
  },
  {
   "cell_type": "code",
   "execution_count": 188,
   "metadata": {},
   "outputs": [
    {
     "data": {
      "text/plain": [
       "<AxesSubplot:xlabel='first_mile_distance', ylabel='last_mile_distance'>"
      ]
     },
     "execution_count": 188,
     "metadata": {},
     "output_type": "execute_result"
    },
    {
     "data": {
      "image/png": "[encoded data removed]",
      "text/plain": [
       "<Figure size 1080x288 with 1 Axes>"
      ]
     },
     "metadata": {},
     "output_type": "display_data"
    }
   ],
   "source": [
    "sns.set(rc={\"figure.figsize\":(15, 4)})\n",
    "sns.scatterplot(data=Order_table, x=\"first_mile_distance\", y=\"last_mile_distance\")"
   ]
  },
  {
   "cell_type": "code",
   "execution_count": null,
   "metadata": {},
   "outputs": [],
   "source": []
  }
 ],
 "metadata": {
  "kernelspec": {
   "display_name": "Python 3",
   "language": "python",
   "name": "python3"
  },
  "language_info": {
   "codemirror_mode": {
    "name": "ipython",
    "version": 3
   },
   "file_extension": ".py",
   "mimetype": "text/x-python",
   "name": "python",
   "nbconvert_exporter": "python",
   "pygments_lexer": "ipython3",
   "version": "3.8.5"
  }
 },
 "nbformat": 4,
 "nbformat_minor": 4
}
